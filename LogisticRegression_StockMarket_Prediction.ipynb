{
  "nbformat": 4,
  "nbformat_minor": 0,
  "metadata": {
    "colab": {
      "provenance": []
    },
    "kernelspec": {
      "name": "python3",
      "display_name": "Python 3"
    },
    "language_info": {
      "name": "python"
    }
  },
  "cells": [
    {
      "cell_type": "code",
      "execution_count": 219,
      "metadata": {
        "id": "7tqxtJZ9o4l7"
      },
      "outputs": [],
      "source": [
        "#import libraries\n",
        "\n",
        "import numpy as np\n",
        "import pandas as pd\n",
        "\n",
        "from sklearn.linear_model import LogisticRegression\n",
        "\n",
        "from sklearn.model_selection import train_test_split"
      ]
    },
    {
      "cell_type": "code",
      "source": [
        "#load the data\n",
        "\n",
        "data= pd.read_excel('/content/AMZN (1).xlsx')"
      ],
      "metadata": {
        "id": "4cXEByHTqDIO"
      },
      "execution_count": 412,
      "outputs": []
    },
    {
      "cell_type": "code",
      "source": [
        "data= data[['Date','Open', 'High', 'Low', 'Close', 'Adj Close', 'Volume']]"
      ],
      "metadata": {
        "id": "n_df7pi2qR4e"
      },
      "execution_count": 352,
      "outputs": []
    },
    {
      "cell_type": "code",
      "source": [
        "data.head(15)"
      ],
      "metadata": {
        "colab": {
          "base_uri": "https://localhost:8080/",
          "height": 520
        },
        "id": "ih50G1TLqeVu",
        "outputId": "99ef1af4-41db-4515-f5b0-ec5021caeb1f"
      },
      "execution_count": 353,
      "outputs": [
        {
          "output_type": "execute_result",
          "data": {
            "text/plain": [
              "         Date       Open       High        Low      Close  Adj Close  \\\n",
              "0  2019-10-01  87.300003  87.779999  86.420502  86.782501  86.782501   \n",
              "1  2019-10-02  86.387001  86.444504  85.250000  85.661499  85.661499   \n",
              "2  2019-10-03  85.650002  86.250000  84.252998  86.221001  86.221001   \n",
              "3  2019-10-04  86.301003  87.028999  85.961502  86.982498  86.982498   \n",
              "4  2019-10-07  86.581497  87.391502  86.184998  86.633003  86.633003   \n",
              "5  2019-10-08  86.124496  86.349998  85.250000  85.275497  85.275497   \n",
              "6  2019-10-09  85.980499  86.497498  85.718002  86.099503  86.099503   \n",
              "7  2019-10-10  86.262001  86.914497  85.687500  86.013000  86.013000   \n",
              "8  2019-10-11  87.146004  87.272499  86.492996  86.596001  86.596001   \n",
              "9  2019-10-14  86.445503  87.094498  86.099998  86.821503  86.821503   \n",
              "10 2019-10-15  87.107002  88.822502  87.030998  88.369003  88.369003   \n",
              "11 2019-10-16  88.666496  89.311996  88.526001  88.871498  88.871498   \n",
              "12 2019-10-17  89.824501  89.942497  89.100998  89.374001  89.374001   \n",
              "13 2019-10-18  89.389999  89.698997  87.459999  87.875504  87.875504   \n",
              "14 2019-10-21  88.483002  89.293999  88.250000  89.282997  89.282997   \n",
              "\n",
              "        Volume  \n",
              "0   61690000.0  \n",
              "1   66022000.0  \n",
              "2   69364000.0  \n",
              "3   49438000.0  \n",
              "4   43094000.0  \n",
              "5   50840000.0  \n",
              "6   40870000.0  \n",
              "7   51504000.0  \n",
              "8   65100000.0  \n",
              "9   38204000.0  \n",
              "10  62234000.0  \n",
              "11  55268000.0  \n",
              "12  52948000.0  \n",
              "13  67250000.0  \n",
              "14  42608000.0  "
            ],
            "text/html": [
              "\n",
              "  <div id=\"df-b05a2301-5e41-41c4-b725-19e8b5774215\">\n",
              "    <div class=\"colab-df-container\">\n",
              "      <div>\n",
              "<style scoped>\n",
              "    .dataframe tbody tr th:only-of-type {\n",
              "        vertical-align: middle;\n",
              "    }\n",
              "\n",
              "    .dataframe tbody tr th {\n",
              "        vertical-align: top;\n",
              "    }\n",
              "\n",
              "    .dataframe thead th {\n",
              "        text-align: right;\n",
              "    }\n",
              "</style>\n",
              "<table border=\"1\" class=\"dataframe\">\n",
              "  <thead>\n",
              "    <tr style=\"text-align: right;\">\n",
              "      <th></th>\n",
              "      <th>Date</th>\n",
              "      <th>Open</th>\n",
              "      <th>High</th>\n",
              "      <th>Low</th>\n",
              "      <th>Close</th>\n",
              "      <th>Adj Close</th>\n",
              "      <th>Volume</th>\n",
              "    </tr>\n",
              "  </thead>\n",
              "  <tbody>\n",
              "    <tr>\n",
              "      <th>0</th>\n",
              "      <td>2019-10-01</td>\n",
              "      <td>87.300003</td>\n",
              "      <td>87.779999</td>\n",
              "      <td>86.420502</td>\n",
              "      <td>86.782501</td>\n",
              "      <td>86.782501</td>\n",
              "      <td>61690000.0</td>\n",
              "    </tr>\n",
              "    <tr>\n",
              "      <th>1</th>\n",
              "      <td>2019-10-02</td>\n",
              "      <td>86.387001</td>\n",
              "      <td>86.444504</td>\n",
              "      <td>85.250000</td>\n",
              "      <td>85.661499</td>\n",
              "      <td>85.661499</td>\n",
              "      <td>66022000.0</td>\n",
              "    </tr>\n",
              "    <tr>\n",
              "      <th>2</th>\n",
              "      <td>2019-10-03</td>\n",
              "      <td>85.650002</td>\n",
              "      <td>86.250000</td>\n",
              "      <td>84.252998</td>\n",
              "      <td>86.221001</td>\n",
              "      <td>86.221001</td>\n",
              "      <td>69364000.0</td>\n",
              "    </tr>\n",
              "    <tr>\n",
              "      <th>3</th>\n",
              "      <td>2019-10-04</td>\n",
              "      <td>86.301003</td>\n",
              "      <td>87.028999</td>\n",
              "      <td>85.961502</td>\n",
              "      <td>86.982498</td>\n",
              "      <td>86.982498</td>\n",
              "      <td>49438000.0</td>\n",
              "    </tr>\n",
              "    <tr>\n",
              "      <th>4</th>\n",
              "      <td>2019-10-07</td>\n",
              "      <td>86.581497</td>\n",
              "      <td>87.391502</td>\n",
              "      <td>86.184998</td>\n",
              "      <td>86.633003</td>\n",
              "      <td>86.633003</td>\n",
              "      <td>43094000.0</td>\n",
              "    </tr>\n",
              "    <tr>\n",
              "      <th>5</th>\n",
              "      <td>2019-10-08</td>\n",
              "      <td>86.124496</td>\n",
              "      <td>86.349998</td>\n",
              "      <td>85.250000</td>\n",
              "      <td>85.275497</td>\n",
              "      <td>85.275497</td>\n",
              "      <td>50840000.0</td>\n",
              "    </tr>\n",
              "    <tr>\n",
              "      <th>6</th>\n",
              "      <td>2019-10-09</td>\n",
              "      <td>85.980499</td>\n",
              "      <td>86.497498</td>\n",
              "      <td>85.718002</td>\n",
              "      <td>86.099503</td>\n",
              "      <td>86.099503</td>\n",
              "      <td>40870000.0</td>\n",
              "    </tr>\n",
              "    <tr>\n",
              "      <th>7</th>\n",
              "      <td>2019-10-10</td>\n",
              "      <td>86.262001</td>\n",
              "      <td>86.914497</td>\n",
              "      <td>85.687500</td>\n",
              "      <td>86.013000</td>\n",
              "      <td>86.013000</td>\n",
              "      <td>51504000.0</td>\n",
              "    </tr>\n",
              "    <tr>\n",
              "      <th>8</th>\n",
              "      <td>2019-10-11</td>\n",
              "      <td>87.146004</td>\n",
              "      <td>87.272499</td>\n",
              "      <td>86.492996</td>\n",
              "      <td>86.596001</td>\n",
              "      <td>86.596001</td>\n",
              "      <td>65100000.0</td>\n",
              "    </tr>\n",
              "    <tr>\n",
              "      <th>9</th>\n",
              "      <td>2019-10-14</td>\n",
              "      <td>86.445503</td>\n",
              "      <td>87.094498</td>\n",
              "      <td>86.099998</td>\n",
              "      <td>86.821503</td>\n",
              "      <td>86.821503</td>\n",
              "      <td>38204000.0</td>\n",
              "    </tr>\n",
              "    <tr>\n",
              "      <th>10</th>\n",
              "      <td>2019-10-15</td>\n",
              "      <td>87.107002</td>\n",
              "      <td>88.822502</td>\n",
              "      <td>87.030998</td>\n",
              "      <td>88.369003</td>\n",
              "      <td>88.369003</td>\n",
              "      <td>62234000.0</td>\n",
              "    </tr>\n",
              "    <tr>\n",
              "      <th>11</th>\n",
              "      <td>2019-10-16</td>\n",
              "      <td>88.666496</td>\n",
              "      <td>89.311996</td>\n",
              "      <td>88.526001</td>\n",
              "      <td>88.871498</td>\n",
              "      <td>88.871498</td>\n",
              "      <td>55268000.0</td>\n",
              "    </tr>\n",
              "    <tr>\n",
              "      <th>12</th>\n",
              "      <td>2019-10-17</td>\n",
              "      <td>89.824501</td>\n",
              "      <td>89.942497</td>\n",
              "      <td>89.100998</td>\n",
              "      <td>89.374001</td>\n",
              "      <td>89.374001</td>\n",
              "      <td>52948000.0</td>\n",
              "    </tr>\n",
              "    <tr>\n",
              "      <th>13</th>\n",
              "      <td>2019-10-18</td>\n",
              "      <td>89.389999</td>\n",
              "      <td>89.698997</td>\n",
              "      <td>87.459999</td>\n",
              "      <td>87.875504</td>\n",
              "      <td>87.875504</td>\n",
              "      <td>67250000.0</td>\n",
              "    </tr>\n",
              "    <tr>\n",
              "      <th>14</th>\n",
              "      <td>2019-10-21</td>\n",
              "      <td>88.483002</td>\n",
              "      <td>89.293999</td>\n",
              "      <td>88.250000</td>\n",
              "      <td>89.282997</td>\n",
              "      <td>89.282997</td>\n",
              "      <td>42608000.0</td>\n",
              "    </tr>\n",
              "  </tbody>\n",
              "</table>\n",
              "</div>\n",
              "      <button class=\"colab-df-convert\" onclick=\"convertToInteractive('df-b05a2301-5e41-41c4-b725-19e8b5774215')\"\n",
              "              title=\"Convert this dataframe to an interactive table.\"\n",
              "              style=\"display:none;\">\n",
              "        \n",
              "  <svg xmlns=\"http://www.w3.org/2000/svg\" height=\"24px\"viewBox=\"0 0 24 24\"\n",
              "       width=\"24px\">\n",
              "    <path d=\"M0 0h24v24H0V0z\" fill=\"none\"/>\n",
              "    <path d=\"M18.56 5.44l.94 2.06.94-2.06 2.06-.94-2.06-.94-.94-2.06-.94 2.06-2.06.94zm-11 1L8.5 8.5l.94-2.06 2.06-.94-2.06-.94L8.5 2.5l-.94 2.06-2.06.94zm10 10l.94 2.06.94-2.06 2.06-.94-2.06-.94-.94-2.06-.94 2.06-2.06.94z\"/><path d=\"M17.41 7.96l-1.37-1.37c-.4-.4-.92-.59-1.43-.59-.52 0-1.04.2-1.43.59L10.3 9.45l-7.72 7.72c-.78.78-.78 2.05 0 2.83L4 21.41c.39.39.9.59 1.41.59.51 0 1.02-.2 1.41-.59l7.78-7.78 2.81-2.81c.8-.78.8-2.07 0-2.86zM5.41 20L4 18.59l7.72-7.72 1.47 1.35L5.41 20z\"/>\n",
              "  </svg>\n",
              "      </button>\n",
              "      \n",
              "  <style>\n",
              "    .colab-df-container {\n",
              "      display:flex;\n",
              "      flex-wrap:wrap;\n",
              "      gap: 12px;\n",
              "    }\n",
              "\n",
              "    .colab-df-convert {\n",
              "      background-color: #E8F0FE;\n",
              "      border: none;\n",
              "      border-radius: 50%;\n",
              "      cursor: pointer;\n",
              "      display: none;\n",
              "      fill: #1967D2;\n",
              "      height: 32px;\n",
              "      padding: 0 0 0 0;\n",
              "      width: 32px;\n",
              "    }\n",
              "\n",
              "    .colab-df-convert:hover {\n",
              "      background-color: #E2EBFA;\n",
              "      box-shadow: 0px 1px 2px rgba(60, 64, 67, 0.3), 0px 1px 3px 1px rgba(60, 64, 67, 0.15);\n",
              "      fill: #174EA6;\n",
              "    }\n",
              "\n",
              "    [theme=dark] .colab-df-convert {\n",
              "      background-color: #3B4455;\n",
              "      fill: #D2E3FC;\n",
              "    }\n",
              "\n",
              "    [theme=dark] .colab-df-convert:hover {\n",
              "      background-color: #434B5C;\n",
              "      box-shadow: 0px 1px 3px 1px rgba(0, 0, 0, 0.15);\n",
              "      filter: drop-shadow(0px 1px 2px rgba(0, 0, 0, 0.3));\n",
              "      fill: #FFFFFF;\n",
              "    }\n",
              "  </style>\n",
              "\n",
              "      <script>\n",
              "        const buttonEl =\n",
              "          document.querySelector('#df-b05a2301-5e41-41c4-b725-19e8b5774215 button.colab-df-convert');\n",
              "        buttonEl.style.display =\n",
              "          google.colab.kernel.accessAllowed ? 'block' : 'none';\n",
              "\n",
              "        async function convertToInteractive(key) {\n",
              "          const element = document.querySelector('#df-b05a2301-5e41-41c4-b725-19e8b5774215');\n",
              "          const dataTable =\n",
              "            await google.colab.kernel.invokeFunction('convertToInteractive',\n",
              "                                                     [key], {});\n",
              "          if (!dataTable) return;\n",
              "\n",
              "          const docLinkHtml = 'Like what you see? Visit the ' +\n",
              "            '<a target=\"_blank\" href=https://colab.research.google.com/notebooks/data_table.ipynb>data table notebook</a>'\n",
              "            + ' to learn more about interactive tables.';\n",
              "          element.innerHTML = '';\n",
              "          dataTable['output_type'] = 'display_data';\n",
              "          await google.colab.output.renderOutput(dataTable, element);\n",
              "          const docLink = document.createElement('div');\n",
              "          docLink.innerHTML = docLinkHtml;\n",
              "          element.appendChild(docLink);\n",
              "        }\n",
              "      </script>\n",
              "    </div>\n",
              "  </div>\n",
              "  "
            ]
          },
          "metadata": {},
          "execution_count": 353
        }
      ]
    },
    {
      "cell_type": "code",
      "source": [
        "data= data.dropna()"
      ],
      "metadata": {
        "id": "MQcVlKvGMKcZ"
      },
      "execution_count": 354,
      "outputs": []
    },
    {
      "cell_type": "code",
      "source": [
        "data['O-C']= data.Open-data.Close\n",
        "data['H-L']= data.High-data.Low\n",
        "\n",
        "X= data[['O-C', 'H-L']]\n",
        "\n",
        "Y= np.where(data['Adj Close'].shift(-1)>data['Adj Close'], 1, -1)"
      ],
      "metadata": {
        "id": "FgdgKyVBq0JH"
      },
      "execution_count": 355,
      "outputs": []
    },
    {
      "cell_type": "code",
      "source": [
        "X.head(10)"
      ],
      "metadata": {
        "colab": {
          "base_uri": "https://localhost:8080/",
          "height": 363
        },
        "id": "H6-xx0G8ykHv",
        "outputId": "57bc09f3-6512-4455-b8d9-8337df38e21b"
      },
      "execution_count": 356,
      "outputs": [
        {
          "output_type": "execute_result",
          "data": {
            "text/plain": [
              "        O-C       H-L\n",
              "0  0.517502  1.359497\n",
              "1  0.725502  1.194504\n",
              "2 -0.570999  1.997002\n",
              "3 -0.681495  1.067497\n",
              "4 -0.051506  1.206504\n",
              "5  0.848999  1.099998\n",
              "6 -0.119004  0.779496\n",
              "7  0.249001  1.226997\n",
              "8  0.550003  0.779503\n",
              "9 -0.376000  0.994500"
            ],
            "text/html": [
              "\n",
              "  <div id=\"df-28cafb86-34f7-47da-81c0-ee4ee53d76c2\">\n",
              "    <div class=\"colab-df-container\">\n",
              "      <div>\n",
              "<style scoped>\n",
              "    .dataframe tbody tr th:only-of-type {\n",
              "        vertical-align: middle;\n",
              "    }\n",
              "\n",
              "    .dataframe tbody tr th {\n",
              "        vertical-align: top;\n",
              "    }\n",
              "\n",
              "    .dataframe thead th {\n",
              "        text-align: right;\n",
              "    }\n",
              "</style>\n",
              "<table border=\"1\" class=\"dataframe\">\n",
              "  <thead>\n",
              "    <tr style=\"text-align: right;\">\n",
              "      <th></th>\n",
              "      <th>O-C</th>\n",
              "      <th>H-L</th>\n",
              "    </tr>\n",
              "  </thead>\n",
              "  <tbody>\n",
              "    <tr>\n",
              "      <th>0</th>\n",
              "      <td>0.517502</td>\n",
              "      <td>1.359497</td>\n",
              "    </tr>\n",
              "    <tr>\n",
              "      <th>1</th>\n",
              "      <td>0.725502</td>\n",
              "      <td>1.194504</td>\n",
              "    </tr>\n",
              "    <tr>\n",
              "      <th>2</th>\n",
              "      <td>-0.570999</td>\n",
              "      <td>1.997002</td>\n",
              "    </tr>\n",
              "    <tr>\n",
              "      <th>3</th>\n",
              "      <td>-0.681495</td>\n",
              "      <td>1.067497</td>\n",
              "    </tr>\n",
              "    <tr>\n",
              "      <th>4</th>\n",
              "      <td>-0.051506</td>\n",
              "      <td>1.206504</td>\n",
              "    </tr>\n",
              "    <tr>\n",
              "      <th>5</th>\n",
              "      <td>0.848999</td>\n",
              "      <td>1.099998</td>\n",
              "    </tr>\n",
              "    <tr>\n",
              "      <th>6</th>\n",
              "      <td>-0.119004</td>\n",
              "      <td>0.779496</td>\n",
              "    </tr>\n",
              "    <tr>\n",
              "      <th>7</th>\n",
              "      <td>0.249001</td>\n",
              "      <td>1.226997</td>\n",
              "    </tr>\n",
              "    <tr>\n",
              "      <th>8</th>\n",
              "      <td>0.550003</td>\n",
              "      <td>0.779503</td>\n",
              "    </tr>\n",
              "    <tr>\n",
              "      <th>9</th>\n",
              "      <td>-0.376000</td>\n",
              "      <td>0.994500</td>\n",
              "    </tr>\n",
              "  </tbody>\n",
              "</table>\n",
              "</div>\n",
              "      <button class=\"colab-df-convert\" onclick=\"convertToInteractive('df-28cafb86-34f7-47da-81c0-ee4ee53d76c2')\"\n",
              "              title=\"Convert this dataframe to an interactive table.\"\n",
              "              style=\"display:none;\">\n",
              "        \n",
              "  <svg xmlns=\"http://www.w3.org/2000/svg\" height=\"24px\"viewBox=\"0 0 24 24\"\n",
              "       width=\"24px\">\n",
              "    <path d=\"M0 0h24v24H0V0z\" fill=\"none\"/>\n",
              "    <path d=\"M18.56 5.44l.94 2.06.94-2.06 2.06-.94-2.06-.94-.94-2.06-.94 2.06-2.06.94zm-11 1L8.5 8.5l.94-2.06 2.06-.94-2.06-.94L8.5 2.5l-.94 2.06-2.06.94zm10 10l.94 2.06.94-2.06 2.06-.94-2.06-.94-.94-2.06-.94 2.06-2.06.94z\"/><path d=\"M17.41 7.96l-1.37-1.37c-.4-.4-.92-.59-1.43-.59-.52 0-1.04.2-1.43.59L10.3 9.45l-7.72 7.72c-.78.78-.78 2.05 0 2.83L4 21.41c.39.39.9.59 1.41.59.51 0 1.02-.2 1.41-.59l7.78-7.78 2.81-2.81c.8-.78.8-2.07 0-2.86zM5.41 20L4 18.59l7.72-7.72 1.47 1.35L5.41 20z\"/>\n",
              "  </svg>\n",
              "      </button>\n",
              "      \n",
              "  <style>\n",
              "    .colab-df-container {\n",
              "      display:flex;\n",
              "      flex-wrap:wrap;\n",
              "      gap: 12px;\n",
              "    }\n",
              "\n",
              "    .colab-df-convert {\n",
              "      background-color: #E8F0FE;\n",
              "      border: none;\n",
              "      border-radius: 50%;\n",
              "      cursor: pointer;\n",
              "      display: none;\n",
              "      fill: #1967D2;\n",
              "      height: 32px;\n",
              "      padding: 0 0 0 0;\n",
              "      width: 32px;\n",
              "    }\n",
              "\n",
              "    .colab-df-convert:hover {\n",
              "      background-color: #E2EBFA;\n",
              "      box-shadow: 0px 1px 2px rgba(60, 64, 67, 0.3), 0px 1px 3px 1px rgba(60, 64, 67, 0.15);\n",
              "      fill: #174EA6;\n",
              "    }\n",
              "\n",
              "    [theme=dark] .colab-df-convert {\n",
              "      background-color: #3B4455;\n",
              "      fill: #D2E3FC;\n",
              "    }\n",
              "\n",
              "    [theme=dark] .colab-df-convert:hover {\n",
              "      background-color: #434B5C;\n",
              "      box-shadow: 0px 1px 3px 1px rgba(0, 0, 0, 0.15);\n",
              "      filter: drop-shadow(0px 1px 2px rgba(0, 0, 0, 0.3));\n",
              "      fill: #FFFFFF;\n",
              "    }\n",
              "  </style>\n",
              "\n",
              "      <script>\n",
              "        const buttonEl =\n",
              "          document.querySelector('#df-28cafb86-34f7-47da-81c0-ee4ee53d76c2 button.colab-df-convert');\n",
              "        buttonEl.style.display =\n",
              "          google.colab.kernel.accessAllowed ? 'block' : 'none';\n",
              "\n",
              "        async function convertToInteractive(key) {\n",
              "          const element = document.querySelector('#df-28cafb86-34f7-47da-81c0-ee4ee53d76c2');\n",
              "          const dataTable =\n",
              "            await google.colab.kernel.invokeFunction('convertToInteractive',\n",
              "                                                     [key], {});\n",
              "          if (!dataTable) return;\n",
              "\n",
              "          const docLinkHtml = 'Like what you see? Visit the ' +\n",
              "            '<a target=\"_blank\" href=https://colab.research.google.com/notebooks/data_table.ipynb>data table notebook</a>'\n",
              "            + ' to learn more about interactive tables.';\n",
              "          element.innerHTML = '';\n",
              "          dataTable['output_type'] = 'display_data';\n",
              "          await google.colab.output.renderOutput(dataTable, element);\n",
              "          const docLink = document.createElement('div');\n",
              "          docLink.innerHTML = docLinkHtml;\n",
              "          element.appendChild(docLink);\n",
              "        }\n",
              "      </script>\n",
              "    </div>\n",
              "  </div>\n",
              "  "
            ]
          },
          "metadata": {},
          "execution_count": 356
        }
      ]
    },
    {
      "cell_type": "code",
      "source": [
        "print(len(data))"
      ],
      "metadata": {
        "colab": {
          "base_uri": "https://localhost:8080/"
        },
        "id": "tkukGpunwA0T",
        "outputId": "a46bdcc4-ba4b-4490-ea55-d7033fd919cd"
      },
      "execution_count": 357,
      "outputs": [
        {
          "output_type": "stream",
          "name": "stdout",
          "text": [
            "63\n"
          ]
        }
      ]
    },
    {
      "cell_type": "code",
      "source": [
        "#Splitting\n",
        "\n",
        "ratio= 0.9\n",
        "spliting= int(ratio*len(data))\n",
        "\n",
        "X_train, Y_train= X[:spliting], Y[:spliting]  #for training\n",
        "\n",
        "X_test, Y_test = X[spliting:], Y[spliting:]  #for testing"
      ],
      "metadata": {
        "id": "Msb4NyGb2HGv"
      },
      "execution_count": 405,
      "outputs": []
    },
    {
      "cell_type": "code",
      "source": [
        "#train size\n",
        "print(len(X_train),len(Y_train))"
      ],
      "metadata": {
        "colab": {
          "base_uri": "https://localhost:8080/"
        },
        "id": "NoBJV3Ae-UWM",
        "outputId": "a593a3ad-9986-462c-9bec-ca3b1f5e9b04"
      },
      "execution_count": 406,
      "outputs": [
        {
          "output_type": "stream",
          "name": "stdout",
          "text": [
            "56 56\n"
          ]
        }
      ]
    },
    {
      "cell_type": "code",
      "source": [
        "#test size\n",
        "print(len(X_test),len(Y_test))"
      ],
      "metadata": {
        "colab": {
          "base_uri": "https://localhost:8080/"
        },
        "id": "7WMGeFbxvvz3",
        "outputId": "420bdd9d-c335-4ad8-d5b9-91b26ab41c58"
      },
      "execution_count": 407,
      "outputs": [
        {
          "output_type": "stream",
          "name": "stdout",
          "text": [
            "7 7\n"
          ]
        }
      ]
    },
    {
      "cell_type": "code",
      "source": [
        "#model creating and fit the model\n",
        "\n",
        "model= LogisticRegression()\n",
        "\n",
        "model= model.fit(X_train, Y_train)"
      ],
      "metadata": {
        "id": "hGgUQovfrcwe"
      },
      "execution_count": 409,
      "outputs": []
    },
    {
      "cell_type": "code",
      "source": [
        "#accuracy test\n",
        "accuracy= model.score(X_test, Y_test)"
      ],
      "metadata": {
        "id": "bMxjcDa6Mmg8"
      },
      "execution_count": 410,
      "outputs": []
    },
    {
      "cell_type": "code",
      "source": [
        "print(accuracy*100)"
      ],
      "metadata": {
        "colab": {
          "base_uri": "https://localhost:8080/"
        },
        "id": "vTKGibtMNEWm",
        "outputId": "8fe4e3a4-baf8-471a-8adc-6e6795108386"
      },
      "execution_count": 411,
      "outputs": [
        {
          "output_type": "stream",
          "name": "stdout",
          "text": [
            "57.14285714285714\n"
          ]
        }
      ]
    }
  ]
}